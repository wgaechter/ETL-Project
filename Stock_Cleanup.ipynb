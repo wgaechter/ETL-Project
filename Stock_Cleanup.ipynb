{
 "metadata": {
  "language_info": {
   "codemirror_mode": {
    "name": "ipython",
    "version": 3
   },
   "file_extension": ".py",
   "mimetype": "text/x-python",
   "name": "python",
   "nbconvert_exporter": "python",
   "pygments_lexer": "ipython3",
   "version": "3.8.5-final"
  },
  "orig_nbformat": 2,
  "kernelspec": {
   "name": "pythondata",
   "display_name": "(PythonData)",
   "language": "python"
  }
 },
 "nbformat": 4,
 "nbformat_minor": 2,
 "cells": [
  {
   "cell_type": "code",
   "execution_count": 4,
   "metadata": {},
   "outputs": [],
   "source": [
    "import pandas as pd\n",
    "from sqlalchemy import create_engine"
   ]
  },
  {
   "cell_type": "code",
   "execution_count": 5,
   "metadata": {},
   "outputs": [],
   "source": [
    "stocks = pd.read_csv(\"data/all_stocks_5yr.csv\")"
   ]
  },
  {
   "cell_type": "code",
   "execution_count": 6,
   "metadata": {},
   "outputs": [
    {
     "output_type": "execute_result",
     "data": {
      "text/plain": [
       "         date   open   high    low  close    volume Name\n",
       "0  2013-02-08  15.07  15.12  14.63  14.75   8407500  AAL\n",
       "1  2013-02-11  14.89  15.01  14.26  14.46   8882000  AAL\n",
       "2  2013-02-12  14.45  14.51  14.10  14.27   8126000  AAL\n",
       "3  2013-02-13  14.30  14.94  14.25  14.66  10259500  AAL\n",
       "4  2013-02-14  14.94  14.96  13.16  13.99  31879900  AAL"
      ],
      "text/html": "<div>\n<style scoped>\n    .dataframe tbody tr th:only-of-type {\n        vertical-align: middle;\n    }\n\n    .dataframe tbody tr th {\n        vertical-align: top;\n    }\n\n    .dataframe thead th {\n        text-align: right;\n    }\n</style>\n<table border=\"1\" class=\"dataframe\">\n  <thead>\n    <tr style=\"text-align: right;\">\n      <th></th>\n      <th>date</th>\n      <th>open</th>\n      <th>high</th>\n      <th>low</th>\n      <th>close</th>\n      <th>volume</th>\n      <th>Name</th>\n    </tr>\n  </thead>\n  <tbody>\n    <tr>\n      <th>0</th>\n      <td>2013-02-08</td>\n      <td>15.07</td>\n      <td>15.12</td>\n      <td>14.63</td>\n      <td>14.75</td>\n      <td>8407500</td>\n      <td>AAL</td>\n    </tr>\n    <tr>\n      <th>1</th>\n      <td>2013-02-11</td>\n      <td>14.89</td>\n      <td>15.01</td>\n      <td>14.26</td>\n      <td>14.46</td>\n      <td>8882000</td>\n      <td>AAL</td>\n    </tr>\n    <tr>\n      <th>2</th>\n      <td>2013-02-12</td>\n      <td>14.45</td>\n      <td>14.51</td>\n      <td>14.10</td>\n      <td>14.27</td>\n      <td>8126000</td>\n      <td>AAL</td>\n    </tr>\n    <tr>\n      <th>3</th>\n      <td>2013-02-13</td>\n      <td>14.30</td>\n      <td>14.94</td>\n      <td>14.25</td>\n      <td>14.66</td>\n      <td>10259500</td>\n      <td>AAL</td>\n    </tr>\n    <tr>\n      <th>4</th>\n      <td>2013-02-14</td>\n      <td>14.94</td>\n      <td>14.96</td>\n      <td>13.16</td>\n      <td>13.99</td>\n      <td>31879900</td>\n      <td>AAL</td>\n    </tr>\n  </tbody>\n</table>\n</div>"
     },
     "metadata": {},
     "execution_count": 6
    }
   ],
   "source": [
    "stocks.head()"
   ]
  },
  {
   "cell_type": "code",
   "execution_count": 7,
   "metadata": {},
   "outputs": [
    {
     "output_type": "execute_result",
     "data": {
      "text/plain": [
       "                 open       high        low      close        volume\n",
       "date                                                                \n",
       "2013-02-08  58.068730  58.659286  57.802352  58.368654  4.643484e+06\n",
       "2013-02-11  58.355556  58.686073  57.890072  58.272196  4.092442e+06\n",
       "2013-02-12  58.321741  58.771200  57.954938  58.404071  5.122822e+06\n",
       "2013-02-13  58.478904  58.899515  58.040928  58.485503  5.132086e+06\n",
       "2013-02-14  58.289216  58.878329  57.871977  58.473144  5.482383e+06\n",
       "2013-02-15  58.485982  58.932768  57.970143  58.437170  5.734999e+06\n",
       "2013-02-19  58.475575  59.076565  58.088696  58.762733  5.274365e+06\n",
       "2013-02-20  58.702446  59.020518  57.765783  57.915434  5.667893e+06\n",
       "2013-02-21  57.765623  58.128038  57.007764  57.505777  6.042141e+06\n",
       "2013-02-22  57.765128  58.342281  57.408570  58.088968  4.651068e+06\n",
       "2013-02-25  58.332967  58.682924  56.980270  57.020570  5.768132e+06\n",
       "2013-02-26  57.239422  57.785060  56.657046  57.367940  5.708278e+06\n",
       "2013-02-27  57.423533  58.529759  57.175580  58.202076  4.946661e+06\n",
       "2013-02-28  58.186321  58.792582  57.787218  58.186529  5.398288e+06\n",
       "2013-03-01  57.979776  58.643128  57.477498  58.362241  5.240415e+06\n",
       "2013-03-04  58.222026  58.900375  57.835719  58.684245  4.678854e+06\n",
       "2013-03-05  58.950564  59.639694  58.680491  59.283359  5.070163e+06\n",
       "2013-03-06  59.450800  59.831749  58.936313  59.296120  4.737881e+06\n",
       "2013-03-07  59.369911  59.779297  58.918157  59.337500  4.781455e+06\n",
       "2013-03-08  59.590637  59.968871  59.060459  59.646093  5.015645e+06"
      ],
      "text/html": "<div>\n<style scoped>\n    .dataframe tbody tr th:only-of-type {\n        vertical-align: middle;\n    }\n\n    .dataframe tbody tr th {\n        vertical-align: top;\n    }\n\n    .dataframe thead th {\n        text-align: right;\n    }\n</style>\n<table border=\"1\" class=\"dataframe\">\n  <thead>\n    <tr style=\"text-align: right;\">\n      <th></th>\n      <th>open</th>\n      <th>high</th>\n      <th>low</th>\n      <th>close</th>\n      <th>volume</th>\n    </tr>\n    <tr>\n      <th>date</th>\n      <th></th>\n      <th></th>\n      <th></th>\n      <th></th>\n      <th></th>\n    </tr>\n  </thead>\n  <tbody>\n    <tr>\n      <th>2013-02-08</th>\n      <td>58.068730</td>\n      <td>58.659286</td>\n      <td>57.802352</td>\n      <td>58.368654</td>\n      <td>4.643484e+06</td>\n    </tr>\n    <tr>\n      <th>2013-02-11</th>\n      <td>58.355556</td>\n      <td>58.686073</td>\n      <td>57.890072</td>\n      <td>58.272196</td>\n      <td>4.092442e+06</td>\n    </tr>\n    <tr>\n      <th>2013-02-12</th>\n      <td>58.321741</td>\n      <td>58.771200</td>\n      <td>57.954938</td>\n      <td>58.404071</td>\n      <td>5.122822e+06</td>\n    </tr>\n    <tr>\n      <th>2013-02-13</th>\n      <td>58.478904</td>\n      <td>58.899515</td>\n      <td>58.040928</td>\n      <td>58.485503</td>\n      <td>5.132086e+06</td>\n    </tr>\n    <tr>\n      <th>2013-02-14</th>\n      <td>58.289216</td>\n      <td>58.878329</td>\n      <td>57.871977</td>\n      <td>58.473144</td>\n      <td>5.482383e+06</td>\n    </tr>\n    <tr>\n      <th>2013-02-15</th>\n      <td>58.485982</td>\n      <td>58.932768</td>\n      <td>57.970143</td>\n      <td>58.437170</td>\n      <td>5.734999e+06</td>\n    </tr>\n    <tr>\n      <th>2013-02-19</th>\n      <td>58.475575</td>\n      <td>59.076565</td>\n      <td>58.088696</td>\n      <td>58.762733</td>\n      <td>5.274365e+06</td>\n    </tr>\n    <tr>\n      <th>2013-02-20</th>\n      <td>58.702446</td>\n      <td>59.020518</td>\n      <td>57.765783</td>\n      <td>57.915434</td>\n      <td>5.667893e+06</td>\n    </tr>\n    <tr>\n      <th>2013-02-21</th>\n      <td>57.765623</td>\n      <td>58.128038</td>\n      <td>57.007764</td>\n      <td>57.505777</td>\n      <td>6.042141e+06</td>\n    </tr>\n    <tr>\n      <th>2013-02-22</th>\n      <td>57.765128</td>\n      <td>58.342281</td>\n      <td>57.408570</td>\n      <td>58.088968</td>\n      <td>4.651068e+06</td>\n    </tr>\n    <tr>\n      <th>2013-02-25</th>\n      <td>58.332967</td>\n      <td>58.682924</td>\n      <td>56.980270</td>\n      <td>57.020570</td>\n      <td>5.768132e+06</td>\n    </tr>\n    <tr>\n      <th>2013-02-26</th>\n      <td>57.239422</td>\n      <td>57.785060</td>\n      <td>56.657046</td>\n      <td>57.367940</td>\n      <td>5.708278e+06</td>\n    </tr>\n    <tr>\n      <th>2013-02-27</th>\n      <td>57.423533</td>\n      <td>58.529759</td>\n      <td>57.175580</td>\n      <td>58.202076</td>\n      <td>4.946661e+06</td>\n    </tr>\n    <tr>\n      <th>2013-02-28</th>\n      <td>58.186321</td>\n      <td>58.792582</td>\n      <td>57.787218</td>\n      <td>58.186529</td>\n      <td>5.398288e+06</td>\n    </tr>\n    <tr>\n      <th>2013-03-01</th>\n      <td>57.979776</td>\n      <td>58.643128</td>\n      <td>57.477498</td>\n      <td>58.362241</td>\n      <td>5.240415e+06</td>\n    </tr>\n    <tr>\n      <th>2013-03-04</th>\n      <td>58.222026</td>\n      <td>58.900375</td>\n      <td>57.835719</td>\n      <td>58.684245</td>\n      <td>4.678854e+06</td>\n    </tr>\n    <tr>\n      <th>2013-03-05</th>\n      <td>58.950564</td>\n      <td>59.639694</td>\n      <td>58.680491</td>\n      <td>59.283359</td>\n      <td>5.070163e+06</td>\n    </tr>\n    <tr>\n      <th>2013-03-06</th>\n      <td>59.450800</td>\n      <td>59.831749</td>\n      <td>58.936313</td>\n      <td>59.296120</td>\n      <td>4.737881e+06</td>\n    </tr>\n    <tr>\n      <th>2013-03-07</th>\n      <td>59.369911</td>\n      <td>59.779297</td>\n      <td>58.918157</td>\n      <td>59.337500</td>\n      <td>4.781455e+06</td>\n    </tr>\n    <tr>\n      <th>2013-03-08</th>\n      <td>59.590637</td>\n      <td>59.968871</td>\n      <td>59.060459</td>\n      <td>59.646093</td>\n      <td>5.015645e+06</td>\n    </tr>\n  </tbody>\n</table>\n</div>"
     },
     "metadata": {},
     "execution_count": 7
    }
   ],
   "source": [
    "grouped = stocks.groupby(by=['date']).mean()\n",
    "\n",
    "grouped.head(20)"
   ]
  },
  {
   "cell_type": "code",
   "execution_count": 8,
   "metadata": {},
   "outputs": [
    {
     "output_type": "execute_result",
     "data": {
      "text/plain": [
       "                close\n",
       "date                 \n",
       "2013-02-08  58.368654\n",
       "2013-02-11  58.272196\n",
       "2013-02-12  58.404071\n",
       "2013-02-13  58.485503\n",
       "2013-02-14  58.473144\n",
       "2013-02-15  58.437170\n",
       "2013-02-19  58.762733\n",
       "2013-02-20  57.915434\n",
       "2013-02-21  57.505777\n",
       "2013-02-22  58.088968\n",
       "2013-02-25  57.020570\n",
       "2013-02-26  57.367940\n",
       "2013-02-27  58.202076\n",
       "2013-02-28  58.186529\n",
       "2013-03-01  58.362241\n",
       "2013-03-04  58.684245\n",
       "2013-03-05  59.283359\n",
       "2013-03-06  59.296120\n",
       "2013-03-07  59.337500\n",
       "2013-03-08  59.646093"
      ],
      "text/html": "<div>\n<style scoped>\n    .dataframe tbody tr th:only-of-type {\n        vertical-align: middle;\n    }\n\n    .dataframe tbody tr th {\n        vertical-align: top;\n    }\n\n    .dataframe thead th {\n        text-align: right;\n    }\n</style>\n<table border=\"1\" class=\"dataframe\">\n  <thead>\n    <tr style=\"text-align: right;\">\n      <th></th>\n      <th>close</th>\n    </tr>\n    <tr>\n      <th>date</th>\n      <th></th>\n    </tr>\n  </thead>\n  <tbody>\n    <tr>\n      <th>2013-02-08</th>\n      <td>58.368654</td>\n    </tr>\n    <tr>\n      <th>2013-02-11</th>\n      <td>58.272196</td>\n    </tr>\n    <tr>\n      <th>2013-02-12</th>\n      <td>58.404071</td>\n    </tr>\n    <tr>\n      <th>2013-02-13</th>\n      <td>58.485503</td>\n    </tr>\n    <tr>\n      <th>2013-02-14</th>\n      <td>58.473144</td>\n    </tr>\n    <tr>\n      <th>2013-02-15</th>\n      <td>58.437170</td>\n    </tr>\n    <tr>\n      <th>2013-02-19</th>\n      <td>58.762733</td>\n    </tr>\n    <tr>\n      <th>2013-02-20</th>\n      <td>57.915434</td>\n    </tr>\n    <tr>\n      <th>2013-02-21</th>\n      <td>57.505777</td>\n    </tr>\n    <tr>\n      <th>2013-02-22</th>\n      <td>58.088968</td>\n    </tr>\n    <tr>\n      <th>2013-02-25</th>\n      <td>57.020570</td>\n    </tr>\n    <tr>\n      <th>2013-02-26</th>\n      <td>57.367940</td>\n    </tr>\n    <tr>\n      <th>2013-02-27</th>\n      <td>58.202076</td>\n    </tr>\n    <tr>\n      <th>2013-02-28</th>\n      <td>58.186529</td>\n    </tr>\n    <tr>\n      <th>2013-03-01</th>\n      <td>58.362241</td>\n    </tr>\n    <tr>\n      <th>2013-03-04</th>\n      <td>58.684245</td>\n    </tr>\n    <tr>\n      <th>2013-03-05</th>\n      <td>59.283359</td>\n    </tr>\n    <tr>\n      <th>2013-03-06</th>\n      <td>59.296120</td>\n    </tr>\n    <tr>\n      <th>2013-03-07</th>\n      <td>59.337500</td>\n    </tr>\n    <tr>\n      <th>2013-03-08</th>\n      <td>59.646093</td>\n    </tr>\n  </tbody>\n</table>\n</div>"
     },
     "metadata": {},
     "execution_count": 8
    }
   ],
   "source": [
    "close = grouped[['close']]\n",
    "\n",
    "close.head(20)"
   ]
  },
  {
   "cell_type": "code",
   "execution_count": 9,
   "metadata": {},
   "outputs": [],
   "source": [
    "close.to_csv('data/cleaned_stocks.csv')"
   ]
  },
  {
   "cell_type": "code",
   "execution_count": 10,
   "metadata": {},
   "outputs": [],
   "source": [
    "clean_stocks = pd.read_csv(\"data/cleaned_stocks.csv\")\n",
    "bitcoin_data = pd.read_csv(\"data/CBBTCUSD.csv\")"
   ]
  },
  {
   "cell_type": "code",
   "execution_count": 11,
   "metadata": {},
   "outputs": [
    {
     "output_type": "execute_result",
     "data": {
      "text/plain": [
       "         date      close\n",
       "0  2013-02-08  58.368654\n",
       "1  2013-02-11  58.272196\n",
       "2  2013-02-12  58.404071\n",
       "3  2013-02-13  58.485503\n",
       "4  2013-02-14  58.473144"
      ],
      "text/html": "<div>\n<style scoped>\n    .dataframe tbody tr th:only-of-type {\n        vertical-align: middle;\n    }\n\n    .dataframe tbody tr th {\n        vertical-align: top;\n    }\n\n    .dataframe thead th {\n        text-align: right;\n    }\n</style>\n<table border=\"1\" class=\"dataframe\">\n  <thead>\n    <tr style=\"text-align: right;\">\n      <th></th>\n      <th>date</th>\n      <th>close</th>\n    </tr>\n  </thead>\n  <tbody>\n    <tr>\n      <th>0</th>\n      <td>2013-02-08</td>\n      <td>58.368654</td>\n    </tr>\n    <tr>\n      <th>1</th>\n      <td>2013-02-11</td>\n      <td>58.272196</td>\n    </tr>\n    <tr>\n      <th>2</th>\n      <td>2013-02-12</td>\n      <td>58.404071</td>\n    </tr>\n    <tr>\n      <th>3</th>\n      <td>2013-02-13</td>\n      <td>58.485503</td>\n    </tr>\n    <tr>\n      <th>4</th>\n      <td>2013-02-14</td>\n      <td>58.473144</td>\n    </tr>\n  </tbody>\n</table>\n</div>"
     },
     "metadata": {},
     "execution_count": 11
    }
   ],
   "source": [
    "clean_stocks.head()"
   ]
  },
  {
   "cell_type": "code",
   "execution_count": 29,
   "metadata": {},
   "outputs": [
    {
     "output_type": "execute_result",
     "data": {
      "text/plain": [
       "         date  CBBTCUSD\n",
       "0  2015-08-19    227.34\n",
       "1  2015-08-20    235.56\n",
       "2  2015-08-21    232.85\n",
       "3  2015-08-22    231.15\n",
       "4  2015-08-23    229.21"
      ],
      "text/html": "<div>\n<style scoped>\n    .dataframe tbody tr th:only-of-type {\n        vertical-align: middle;\n    }\n\n    .dataframe tbody tr th {\n        vertical-align: top;\n    }\n\n    .dataframe thead th {\n        text-align: right;\n    }\n</style>\n<table border=\"1\" class=\"dataframe\">\n  <thead>\n    <tr style=\"text-align: right;\">\n      <th></th>\n      <th>date</th>\n      <th>CBBTCUSD</th>\n    </tr>\n  </thead>\n  <tbody>\n    <tr>\n      <th>0</th>\n      <td>2015-08-19</td>\n      <td>227.34</td>\n    </tr>\n    <tr>\n      <th>1</th>\n      <td>2015-08-20</td>\n      <td>235.56</td>\n    </tr>\n    <tr>\n      <th>2</th>\n      <td>2015-08-21</td>\n      <td>232.85</td>\n    </tr>\n    <tr>\n      <th>3</th>\n      <td>2015-08-22</td>\n      <td>231.15</td>\n    </tr>\n    <tr>\n      <th>4</th>\n      <td>2015-08-23</td>\n      <td>229.21</td>\n    </tr>\n  </tbody>\n</table>\n</div>"
     },
     "metadata": {},
     "execution_count": 29
    }
   ],
   "source": [
    "bitcoin_data = bitcoin_data.rename(columns={\"DATE\":\"date\"})\n",
    "\n",
    "bitcoin_data.head()"
   ]
  },
  {
   "cell_type": "code",
   "execution_count": 32,
   "metadata": {},
   "outputs": [
    {
     "output_type": "execute_result",
     "data": {
      "text/plain": [
       "         date  stock_price  bitcoin_price\n",
       "0  2015-08-19    86.399957         227.34\n",
       "1  2015-08-20    84.537329         235.56\n",
       "2  2015-08-21    82.040237         232.85\n",
       "3  2015-08-24    78.762726         211.16\n",
       "4  2015-08-25    77.847608         223.73"
      ],
      "text/html": "<div>\n<style scoped>\n    .dataframe tbody tr th:only-of-type {\n        vertical-align: middle;\n    }\n\n    .dataframe tbody tr th {\n        vertical-align: top;\n    }\n\n    .dataframe thead th {\n        text-align: right;\n    }\n</style>\n<table border=\"1\" class=\"dataframe\">\n  <thead>\n    <tr style=\"text-align: right;\">\n      <th></th>\n      <th>date</th>\n      <th>stock_price</th>\n      <th>bitcoin_price</th>\n    </tr>\n  </thead>\n  <tbody>\n    <tr>\n      <th>0</th>\n      <td>2015-08-19</td>\n      <td>86.399957</td>\n      <td>227.34</td>\n    </tr>\n    <tr>\n      <th>1</th>\n      <td>2015-08-20</td>\n      <td>84.537329</td>\n      <td>235.56</td>\n    </tr>\n    <tr>\n      <th>2</th>\n      <td>2015-08-21</td>\n      <td>82.040237</td>\n      <td>232.85</td>\n    </tr>\n    <tr>\n      <th>3</th>\n      <td>2015-08-24</td>\n      <td>78.762726</td>\n      <td>211.16</td>\n    </tr>\n    <tr>\n      <th>4</th>\n      <td>2015-08-25</td>\n      <td>77.847608</td>\n      <td>223.73</td>\n    </tr>\n  </tbody>\n</table>\n</div>"
     },
     "metadata": {},
     "execution_count": 32
    }
   ],
   "source": [
    "#Merge\n",
    "\n",
    "merged_table = clean_stocks.merge(bitcoin_data, on='date', how='inner')\n",
    "\n",
    "merged_table = merged_table.rename(columns={\"close\": 'stock_price', \"CBBTCUSD\": 'bitcoin_price'})\n",
    "\n",
    "merged_table.head()"
   ]
  },
  {
   "cell_type": "code",
   "execution_count": null,
   "metadata": {},
   "outputs": [],
   "source": [
    "password = \"\""
   ]
  },
  {
   "cell_type": "code",
   "execution_count": 37,
   "metadata": {},
   "outputs": [],
   "source": [
    "connection_string = f\"postgres:{password}@localhost:5432/Bitcoin-ETL\"\n",
    "engine = create_engine(f'postgresql://{connection_string}')"
   ]
  },
  {
   "cell_type": "code",
   "execution_count": 38,
   "metadata": {},
   "outputs": [
    {
     "output_type": "error",
     "ename": "ProgrammingError",
     "evalue": "(psycopg2.errors.DuplicateTable) relation \"data\" already exists\n\n[SQL: CREATE TABLE data(date Date, stock_price Money, bitcoin_price Money)]\n(Background on this error at: http://sqlalche.me/e/13/f405)",
     "traceback": [
      "\u001b[1;31m---------------------------------------------------------------------------\u001b[0m",
      "\u001b[1;31mDuplicateTable\u001b[0m                            Traceback (most recent call last)",
      "\u001b[1;32m~\\anaconda3\\envs\\PythonData\\lib\\site-packages\\sqlalchemy\\engine\\base.py\u001b[0m in \u001b[0;36m_execute_context\u001b[1;34m(self, dialect, constructor, statement, parameters, *args)\u001b[0m\n\u001b[0;32m   1275\u001b[0m                 \u001b[1;32mif\u001b[0m \u001b[1;32mnot\u001b[0m \u001b[0mevt_handled\u001b[0m\u001b[1;33m:\u001b[0m\u001b[1;33m\u001b[0m\u001b[1;33m\u001b[0m\u001b[0m\n\u001b[1;32m-> 1276\u001b[1;33m                     self.dialect.do_execute(\n\u001b[0m\u001b[0;32m   1277\u001b[0m                         \u001b[0mcursor\u001b[0m\u001b[1;33m,\u001b[0m \u001b[0mstatement\u001b[0m\u001b[1;33m,\u001b[0m \u001b[0mparameters\u001b[0m\u001b[1;33m,\u001b[0m \u001b[0mcontext\u001b[0m\u001b[1;33m\u001b[0m\u001b[1;33m\u001b[0m\u001b[0m\n",
      "\u001b[1;32m~\\anaconda3\\envs\\PythonData\\lib\\site-packages\\sqlalchemy\\engine\\default.py\u001b[0m in \u001b[0;36mdo_execute\u001b[1;34m(self, cursor, statement, parameters, context)\u001b[0m\n\u001b[0;32m    592\u001b[0m     \u001b[1;32mdef\u001b[0m \u001b[0mdo_execute\u001b[0m\u001b[1;33m(\u001b[0m\u001b[0mself\u001b[0m\u001b[1;33m,\u001b[0m \u001b[0mcursor\u001b[0m\u001b[1;33m,\u001b[0m \u001b[0mstatement\u001b[0m\u001b[1;33m,\u001b[0m \u001b[0mparameters\u001b[0m\u001b[1;33m,\u001b[0m \u001b[0mcontext\u001b[0m\u001b[1;33m=\u001b[0m\u001b[1;32mNone\u001b[0m\u001b[1;33m)\u001b[0m\u001b[1;33m:\u001b[0m\u001b[1;33m\u001b[0m\u001b[1;33m\u001b[0m\u001b[0m\n\u001b[1;32m--> 593\u001b[1;33m         \u001b[0mcursor\u001b[0m\u001b[1;33m.\u001b[0m\u001b[0mexecute\u001b[0m\u001b[1;33m(\u001b[0m\u001b[0mstatement\u001b[0m\u001b[1;33m,\u001b[0m \u001b[0mparameters\u001b[0m\u001b[1;33m)\u001b[0m\u001b[1;33m\u001b[0m\u001b[1;33m\u001b[0m\u001b[0m\n\u001b[0m\u001b[0;32m    594\u001b[0m \u001b[1;33m\u001b[0m\u001b[0m\n",
      "\u001b[1;31mDuplicateTable\u001b[0m: relation \"data\" already exists\n",
      "\nThe above exception was the direct cause of the following exception:\n",
      "\u001b[1;31mProgrammingError\u001b[0m                          Traceback (most recent call last)",
      "\u001b[1;32m<ipython-input-38-a094bad41a10>\u001b[0m in \u001b[0;36m<module>\u001b[1;34m\u001b[0m\n\u001b[1;32m----> 1\u001b[1;33m \u001b[0mengine\u001b[0m\u001b[1;33m.\u001b[0m\u001b[0mexecute\u001b[0m\u001b[1;33m(\u001b[0m\u001b[1;34m\"CREATE TABLE data(date Date, stock_price Money, bitcoin_price Money)\"\u001b[0m\u001b[1;33m)\u001b[0m\u001b[1;33m\u001b[0m\u001b[1;33m\u001b[0m\u001b[0m\n\u001b[0m",
      "\u001b[1;32m~\\anaconda3\\envs\\PythonData\\lib\\site-packages\\sqlalchemy\\engine\\base.py\u001b[0m in \u001b[0;36mexecute\u001b[1;34m(self, statement, *multiparams, **params)\u001b[0m\n\u001b[0;32m   2233\u001b[0m \u001b[1;33m\u001b[0m\u001b[0m\n\u001b[0;32m   2234\u001b[0m         \u001b[0mconnection\u001b[0m \u001b[1;33m=\u001b[0m \u001b[0mself\u001b[0m\u001b[1;33m.\u001b[0m\u001b[0m_contextual_connect\u001b[0m\u001b[1;33m(\u001b[0m\u001b[0mclose_with_result\u001b[0m\u001b[1;33m=\u001b[0m\u001b[1;32mTrue\u001b[0m\u001b[1;33m)\u001b[0m\u001b[1;33m\u001b[0m\u001b[1;33m\u001b[0m\u001b[0m\n\u001b[1;32m-> 2235\u001b[1;33m         \u001b[1;32mreturn\u001b[0m \u001b[0mconnection\u001b[0m\u001b[1;33m.\u001b[0m\u001b[0mexecute\u001b[0m\u001b[1;33m(\u001b[0m\u001b[0mstatement\u001b[0m\u001b[1;33m,\u001b[0m \u001b[1;33m*\u001b[0m\u001b[0mmultiparams\u001b[0m\u001b[1;33m,\u001b[0m \u001b[1;33m**\u001b[0m\u001b[0mparams\u001b[0m\u001b[1;33m)\u001b[0m\u001b[1;33m\u001b[0m\u001b[1;33m\u001b[0m\u001b[0m\n\u001b[0m\u001b[0;32m   2236\u001b[0m \u001b[1;33m\u001b[0m\u001b[0m\n\u001b[0;32m   2237\u001b[0m     \u001b[1;32mdef\u001b[0m \u001b[0mscalar\u001b[0m\u001b[1;33m(\u001b[0m\u001b[0mself\u001b[0m\u001b[1;33m,\u001b[0m \u001b[0mstatement\u001b[0m\u001b[1;33m,\u001b[0m \u001b[1;33m*\u001b[0m\u001b[0mmultiparams\u001b[0m\u001b[1;33m,\u001b[0m \u001b[1;33m**\u001b[0m\u001b[0mparams\u001b[0m\u001b[1;33m)\u001b[0m\u001b[1;33m:\u001b[0m\u001b[1;33m\u001b[0m\u001b[1;33m\u001b[0m\u001b[0m\n",
      "\u001b[1;32m~\\anaconda3\\envs\\PythonData\\lib\\site-packages\\sqlalchemy\\engine\\base.py\u001b[0m in \u001b[0;36mexecute\u001b[1;34m(self, object_, *multiparams, **params)\u001b[0m\n\u001b[0;32m   1001\u001b[0m         \"\"\"\n\u001b[0;32m   1002\u001b[0m         \u001b[1;32mif\u001b[0m \u001b[0misinstance\u001b[0m\u001b[1;33m(\u001b[0m\u001b[0mobject_\u001b[0m\u001b[1;33m,\u001b[0m \u001b[0mutil\u001b[0m\u001b[1;33m.\u001b[0m\u001b[0mstring_types\u001b[0m\u001b[1;33m[\u001b[0m\u001b[1;36m0\u001b[0m\u001b[1;33m]\u001b[0m\u001b[1;33m)\u001b[0m\u001b[1;33m:\u001b[0m\u001b[1;33m\u001b[0m\u001b[1;33m\u001b[0m\u001b[0m\n\u001b[1;32m-> 1003\u001b[1;33m             \u001b[1;32mreturn\u001b[0m \u001b[0mself\u001b[0m\u001b[1;33m.\u001b[0m\u001b[0m_execute_text\u001b[0m\u001b[1;33m(\u001b[0m\u001b[0mobject_\u001b[0m\u001b[1;33m,\u001b[0m \u001b[0mmultiparams\u001b[0m\u001b[1;33m,\u001b[0m \u001b[0mparams\u001b[0m\u001b[1;33m)\u001b[0m\u001b[1;33m\u001b[0m\u001b[1;33m\u001b[0m\u001b[0m\n\u001b[0m\u001b[0;32m   1004\u001b[0m         \u001b[1;32mtry\u001b[0m\u001b[1;33m:\u001b[0m\u001b[1;33m\u001b[0m\u001b[1;33m\u001b[0m\u001b[0m\n\u001b[0;32m   1005\u001b[0m             \u001b[0mmeth\u001b[0m \u001b[1;33m=\u001b[0m \u001b[0mobject_\u001b[0m\u001b[1;33m.\u001b[0m\u001b[0m_execute_on_connection\u001b[0m\u001b[1;33m\u001b[0m\u001b[1;33m\u001b[0m\u001b[0m\n",
      "\u001b[1;32m~\\anaconda3\\envs\\PythonData\\lib\\site-packages\\sqlalchemy\\engine\\base.py\u001b[0m in \u001b[0;36m_execute_text\u001b[1;34m(self, statement, multiparams, params)\u001b[0m\n\u001b[0;32m   1170\u001b[0m         \u001b[0mdialect\u001b[0m \u001b[1;33m=\u001b[0m \u001b[0mself\u001b[0m\u001b[1;33m.\u001b[0m\u001b[0mdialect\u001b[0m\u001b[1;33m\u001b[0m\u001b[1;33m\u001b[0m\u001b[0m\n\u001b[0;32m   1171\u001b[0m         \u001b[0mparameters\u001b[0m \u001b[1;33m=\u001b[0m \u001b[0m_distill_params\u001b[0m\u001b[1;33m(\u001b[0m\u001b[0mmultiparams\u001b[0m\u001b[1;33m,\u001b[0m \u001b[0mparams\u001b[0m\u001b[1;33m)\u001b[0m\u001b[1;33m\u001b[0m\u001b[1;33m\u001b[0m\u001b[0m\n\u001b[1;32m-> 1172\u001b[1;33m         ret = self._execute_context(\n\u001b[0m\u001b[0;32m   1173\u001b[0m             \u001b[0mdialect\u001b[0m\u001b[1;33m,\u001b[0m\u001b[1;33m\u001b[0m\u001b[1;33m\u001b[0m\u001b[0m\n\u001b[0;32m   1174\u001b[0m             \u001b[0mdialect\u001b[0m\u001b[1;33m.\u001b[0m\u001b[0mexecution_ctx_cls\u001b[0m\u001b[1;33m.\u001b[0m\u001b[0m_init_statement\u001b[0m\u001b[1;33m,\u001b[0m\u001b[1;33m\u001b[0m\u001b[1;33m\u001b[0m\u001b[0m\n",
      "\u001b[1;32m~\\anaconda3\\envs\\PythonData\\lib\\site-packages\\sqlalchemy\\engine\\base.py\u001b[0m in \u001b[0;36m_execute_context\u001b[1;34m(self, dialect, constructor, statement, parameters, *args)\u001b[0m\n\u001b[0;32m   1314\u001b[0m \u001b[1;33m\u001b[0m\u001b[0m\n\u001b[0;32m   1315\u001b[0m         \u001b[1;32mexcept\u001b[0m \u001b[0mBaseException\u001b[0m \u001b[1;32mas\u001b[0m \u001b[0me\u001b[0m\u001b[1;33m:\u001b[0m\u001b[1;33m\u001b[0m\u001b[1;33m\u001b[0m\u001b[0m\n\u001b[1;32m-> 1316\u001b[1;33m             self._handle_dbapi_exception(\n\u001b[0m\u001b[0;32m   1317\u001b[0m                 \u001b[0me\u001b[0m\u001b[1;33m,\u001b[0m \u001b[0mstatement\u001b[0m\u001b[1;33m,\u001b[0m \u001b[0mparameters\u001b[0m\u001b[1;33m,\u001b[0m \u001b[0mcursor\u001b[0m\u001b[1;33m,\u001b[0m \u001b[0mcontext\u001b[0m\u001b[1;33m\u001b[0m\u001b[1;33m\u001b[0m\u001b[0m\n\u001b[0;32m   1318\u001b[0m             )\n",
      "\u001b[1;32m~\\anaconda3\\envs\\PythonData\\lib\\site-packages\\sqlalchemy\\engine\\base.py\u001b[0m in \u001b[0;36m_handle_dbapi_exception\u001b[1;34m(self, e, statement, parameters, cursor, context)\u001b[0m\n\u001b[0;32m   1508\u001b[0m                 \u001b[0mutil\u001b[0m\u001b[1;33m.\u001b[0m\u001b[0mraise_\u001b[0m\u001b[1;33m(\u001b[0m\u001b[0mnewraise\u001b[0m\u001b[1;33m,\u001b[0m \u001b[0mwith_traceback\u001b[0m\u001b[1;33m=\u001b[0m\u001b[0mexc_info\u001b[0m\u001b[1;33m[\u001b[0m\u001b[1;36m2\u001b[0m\u001b[1;33m]\u001b[0m\u001b[1;33m,\u001b[0m \u001b[0mfrom_\u001b[0m\u001b[1;33m=\u001b[0m\u001b[0me\u001b[0m\u001b[1;33m)\u001b[0m\u001b[1;33m\u001b[0m\u001b[1;33m\u001b[0m\u001b[0m\n\u001b[0;32m   1509\u001b[0m             \u001b[1;32melif\u001b[0m \u001b[0mshould_wrap\u001b[0m\u001b[1;33m:\u001b[0m\u001b[1;33m\u001b[0m\u001b[1;33m\u001b[0m\u001b[0m\n\u001b[1;32m-> 1510\u001b[1;33m                 util.raise_(\n\u001b[0m\u001b[0;32m   1511\u001b[0m                     \u001b[0msqlalchemy_exception\u001b[0m\u001b[1;33m,\u001b[0m \u001b[0mwith_traceback\u001b[0m\u001b[1;33m=\u001b[0m\u001b[0mexc_info\u001b[0m\u001b[1;33m[\u001b[0m\u001b[1;36m2\u001b[0m\u001b[1;33m]\u001b[0m\u001b[1;33m,\u001b[0m \u001b[0mfrom_\u001b[0m\u001b[1;33m=\u001b[0m\u001b[0me\u001b[0m\u001b[1;33m\u001b[0m\u001b[1;33m\u001b[0m\u001b[0m\n\u001b[0;32m   1512\u001b[0m                 )\n",
      "\u001b[1;32m~\\anaconda3\\envs\\PythonData\\lib\\site-packages\\sqlalchemy\\util\\compat.py\u001b[0m in \u001b[0;36mraise_\u001b[1;34m(***failed resolving arguments***)\u001b[0m\n\u001b[0;32m    180\u001b[0m \u001b[1;33m\u001b[0m\u001b[0m\n\u001b[0;32m    181\u001b[0m         \u001b[1;32mtry\u001b[0m\u001b[1;33m:\u001b[0m\u001b[1;33m\u001b[0m\u001b[1;33m\u001b[0m\u001b[0m\n\u001b[1;32m--> 182\u001b[1;33m             \u001b[1;32mraise\u001b[0m \u001b[0mexception\u001b[0m\u001b[1;33m\u001b[0m\u001b[1;33m\u001b[0m\u001b[0m\n\u001b[0m\u001b[0;32m    183\u001b[0m         \u001b[1;32mfinally\u001b[0m\u001b[1;33m:\u001b[0m\u001b[1;33m\u001b[0m\u001b[1;33m\u001b[0m\u001b[0m\n\u001b[0;32m    184\u001b[0m             \u001b[1;31m# credit to\u001b[0m\u001b[1;33m\u001b[0m\u001b[1;33m\u001b[0m\u001b[1;33m\u001b[0m\u001b[0m\n",
      "\u001b[1;32m~\\anaconda3\\envs\\PythonData\\lib\\site-packages\\sqlalchemy\\engine\\base.py\u001b[0m in \u001b[0;36m_execute_context\u001b[1;34m(self, dialect, constructor, statement, parameters, *args)\u001b[0m\n\u001b[0;32m   1274\u001b[0m                             \u001b[1;32mbreak\u001b[0m\u001b[1;33m\u001b[0m\u001b[1;33m\u001b[0m\u001b[0m\n\u001b[0;32m   1275\u001b[0m                 \u001b[1;32mif\u001b[0m \u001b[1;32mnot\u001b[0m \u001b[0mevt_handled\u001b[0m\u001b[1;33m:\u001b[0m\u001b[1;33m\u001b[0m\u001b[1;33m\u001b[0m\u001b[0m\n\u001b[1;32m-> 1276\u001b[1;33m                     self.dialect.do_execute(\n\u001b[0m\u001b[0;32m   1277\u001b[0m                         \u001b[0mcursor\u001b[0m\u001b[1;33m,\u001b[0m \u001b[0mstatement\u001b[0m\u001b[1;33m,\u001b[0m \u001b[0mparameters\u001b[0m\u001b[1;33m,\u001b[0m \u001b[0mcontext\u001b[0m\u001b[1;33m\u001b[0m\u001b[1;33m\u001b[0m\u001b[0m\n\u001b[0;32m   1278\u001b[0m                     )\n",
      "\u001b[1;32m~\\anaconda3\\envs\\PythonData\\lib\\site-packages\\sqlalchemy\\engine\\default.py\u001b[0m in \u001b[0;36mdo_execute\u001b[1;34m(self, cursor, statement, parameters, context)\u001b[0m\n\u001b[0;32m    591\u001b[0m \u001b[1;33m\u001b[0m\u001b[0m\n\u001b[0;32m    592\u001b[0m     \u001b[1;32mdef\u001b[0m \u001b[0mdo_execute\u001b[0m\u001b[1;33m(\u001b[0m\u001b[0mself\u001b[0m\u001b[1;33m,\u001b[0m \u001b[0mcursor\u001b[0m\u001b[1;33m,\u001b[0m \u001b[0mstatement\u001b[0m\u001b[1;33m,\u001b[0m \u001b[0mparameters\u001b[0m\u001b[1;33m,\u001b[0m \u001b[0mcontext\u001b[0m\u001b[1;33m=\u001b[0m\u001b[1;32mNone\u001b[0m\u001b[1;33m)\u001b[0m\u001b[1;33m:\u001b[0m\u001b[1;33m\u001b[0m\u001b[1;33m\u001b[0m\u001b[0m\n\u001b[1;32m--> 593\u001b[1;33m         \u001b[0mcursor\u001b[0m\u001b[1;33m.\u001b[0m\u001b[0mexecute\u001b[0m\u001b[1;33m(\u001b[0m\u001b[0mstatement\u001b[0m\u001b[1;33m,\u001b[0m \u001b[0mparameters\u001b[0m\u001b[1;33m)\u001b[0m\u001b[1;33m\u001b[0m\u001b[1;33m\u001b[0m\u001b[0m\n\u001b[0m\u001b[0;32m    594\u001b[0m \u001b[1;33m\u001b[0m\u001b[0m\n\u001b[0;32m    595\u001b[0m     \u001b[1;32mdef\u001b[0m \u001b[0mdo_execute_no_params\u001b[0m\u001b[1;33m(\u001b[0m\u001b[0mself\u001b[0m\u001b[1;33m,\u001b[0m \u001b[0mcursor\u001b[0m\u001b[1;33m,\u001b[0m \u001b[0mstatement\u001b[0m\u001b[1;33m,\u001b[0m \u001b[0mcontext\u001b[0m\u001b[1;33m=\u001b[0m\u001b[1;32mNone\u001b[0m\u001b[1;33m)\u001b[0m\u001b[1;33m:\u001b[0m\u001b[1;33m\u001b[0m\u001b[1;33m\u001b[0m\u001b[0m\n",
      "\u001b[1;31mProgrammingError\u001b[0m: (psycopg2.errors.DuplicateTable) relation \"data\" already exists\n\n[SQL: CREATE TABLE data(date Date, stock_price Money, bitcoin_price Money)]\n(Background on this error at: http://sqlalche.me/e/13/f405)"
     ]
    }
   ],
   "source": [
    "#engine.execute(\"CREATE TABLE data(date Date, stock_price Money, bitcoin_price Money)\")"
   ]
  },
  {
   "cell_type": "code",
   "execution_count": 39,
   "metadata": {},
   "outputs": [
    {
     "output_type": "execute_result",
     "data": {
      "text/plain": [
       "['data']"
      ]
     },
     "metadata": {},
     "execution_count": 39
    }
   ],
   "source": [
    "engine.table_names()"
   ]
  },
  {
   "cell_type": "code",
   "execution_count": 40,
   "metadata": {},
   "outputs": [],
   "source": [
    "merged_table.to_sql(name='data', con=engine, if_exists='append', index=False)"
   ]
  },
  {
   "cell_type": "code",
   "execution_count": 44,
   "metadata": {},
   "outputs": [
    {
     "output_type": "stream",
     "name": "stdout",
     "text": [
      "(datetime.date(2015, 8, 19), '$86.40', '$227.34')\n(datetime.date(2015, 8, 20), '$84.54', '$235.56')\n(datetime.date(2015, 8, 21), '$82.04', '$232.85')\n(datetime.date(2015, 8, 24), '$78.76', '$211.16')\n(datetime.date(2015, 8, 25), '$77.85', '$223.73')\n(datetime.date(2015, 8, 26), '$80.57', '$226.81')\n(datetime.date(2015, 8, 27), '$82.47', '$225.80')\n(datetime.date(2015, 8, 28), '$82.52', '$231.55')\n(datetime.date(2015, 8, 31), '$81.68', '$230.75')\n(datetime.date(2015, 9, 1), '$79.48', '$228.22')\n"
     ]
    }
   ],
   "source": [
    "test = engine.execute(\"SELECT data.date, data.stock_price, data.bitcoin_price FROM data LIMIT 10\")\n",
    "\n",
    "for i in test:\n",
    "    print(i)"
   ]
  },
  {
   "cell_type": "code",
   "execution_count": null,
   "metadata": {},
   "outputs": [],
   "source": []
  }
 ]
}