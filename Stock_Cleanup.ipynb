{
 "metadata": {
  "language_info": {
   "codemirror_mode": {
    "name": "ipython",
    "version": 3
   },
   "file_extension": ".py",
   "mimetype": "text/x-python",
   "name": "python",
   "nbconvert_exporter": "python",
   "pygments_lexer": "ipython3",
   "version": "3.8.5-final"
  },
  "orig_nbformat": 2,
  "kernelspec": {
   "name": "pythondata",
   "display_name": "(PythonData)",
   "language": "python"
  }
 },
 "nbformat": 4,
 "nbformat_minor": 2,
 "cells": [
  {
   "cell_type": "code",
   "execution_count": 1,
   "metadata": {},
   "outputs": [],
   "source": [
    "import pandas as pd"
   ]
  },
  {
   "cell_type": "code",
   "execution_count": 2,
   "metadata": {},
   "outputs": [],
   "source": [
    "stocks = pd.read_csv(\"data/all_stocks_5yr.csv\")"
   ]
  },
  {
   "cell_type": "code",
   "execution_count": 3,
   "metadata": {},
   "outputs": [
    {
     "output_type": "execute_result",
     "data": {
      "text/plain": [
       "         date   open   high    low  close    volume Name\n",
       "0  2013-02-08  15.07  15.12  14.63  14.75   8407500  AAL\n",
       "1  2013-02-11  14.89  15.01  14.26  14.46   8882000  AAL\n",
       "2  2013-02-12  14.45  14.51  14.10  14.27   8126000  AAL\n",
       "3  2013-02-13  14.30  14.94  14.25  14.66  10259500  AAL\n",
       "4  2013-02-14  14.94  14.96  13.16  13.99  31879900  AAL"
      ],
      "text/html": "<div>\n<style scoped>\n    .dataframe tbody tr th:only-of-type {\n        vertical-align: middle;\n    }\n\n    .dataframe tbody tr th {\n        vertical-align: top;\n    }\n\n    .dataframe thead th {\n        text-align: right;\n    }\n</style>\n<table border=\"1\" class=\"dataframe\">\n  <thead>\n    <tr style=\"text-align: right;\">\n      <th></th>\n      <th>date</th>\n      <th>open</th>\n      <th>high</th>\n      <th>low</th>\n      <th>close</th>\n      <th>volume</th>\n      <th>Name</th>\n    </tr>\n  </thead>\n  <tbody>\n    <tr>\n      <th>0</th>\n      <td>2013-02-08</td>\n      <td>15.07</td>\n      <td>15.12</td>\n      <td>14.63</td>\n      <td>14.75</td>\n      <td>8407500</td>\n      <td>AAL</td>\n    </tr>\n    <tr>\n      <th>1</th>\n      <td>2013-02-11</td>\n      <td>14.89</td>\n      <td>15.01</td>\n      <td>14.26</td>\n      <td>14.46</td>\n      <td>8882000</td>\n      <td>AAL</td>\n    </tr>\n    <tr>\n      <th>2</th>\n      <td>2013-02-12</td>\n      <td>14.45</td>\n      <td>14.51</td>\n      <td>14.10</td>\n      <td>14.27</td>\n      <td>8126000</td>\n      <td>AAL</td>\n    </tr>\n    <tr>\n      <th>3</th>\n      <td>2013-02-13</td>\n      <td>14.30</td>\n      <td>14.94</td>\n      <td>14.25</td>\n      <td>14.66</td>\n      <td>10259500</td>\n      <td>AAL</td>\n    </tr>\n    <tr>\n      <th>4</th>\n      <td>2013-02-14</td>\n      <td>14.94</td>\n      <td>14.96</td>\n      <td>13.16</td>\n      <td>13.99</td>\n      <td>31879900</td>\n      <td>AAL</td>\n    </tr>\n  </tbody>\n</table>\n</div>"
     },
     "metadata": {},
     "execution_count": 3
    }
   ],
   "source": [
    "stocks.head()"
   ]
  },
  {
   "cell_type": "code",
   "execution_count": 4,
   "metadata": {},
   "outputs": [
    {
     "output_type": "execute_result",
     "data": {
      "text/plain": [
       "                 open       high        low      close        volume\n",
       "date                                                                \n",
       "2013-02-08  58.068730  58.659286  57.802352  58.368654  4.643484e+06\n",
       "2013-02-11  58.355556  58.686073  57.890072  58.272196  4.092442e+06\n",
       "2013-02-12  58.321741  58.771200  57.954938  58.404071  5.122822e+06\n",
       "2013-02-13  58.478904  58.899515  58.040928  58.485503  5.132086e+06\n",
       "2013-02-14  58.289216  58.878329  57.871977  58.473144  5.482383e+06\n",
       "2013-02-15  58.485982  58.932768  57.970143  58.437170  5.734999e+06\n",
       "2013-02-19  58.475575  59.076565  58.088696  58.762733  5.274365e+06\n",
       "2013-02-20  58.702446  59.020518  57.765783  57.915434  5.667893e+06\n",
       "2013-02-21  57.765623  58.128038  57.007764  57.505777  6.042141e+06\n",
       "2013-02-22  57.765128  58.342281  57.408570  58.088968  4.651068e+06\n",
       "2013-02-25  58.332967  58.682924  56.980270  57.020570  5.768132e+06\n",
       "2013-02-26  57.239422  57.785060  56.657046  57.367940  5.708278e+06\n",
       "2013-02-27  57.423533  58.529759  57.175580  58.202076  4.946661e+06\n",
       "2013-02-28  58.186321  58.792582  57.787218  58.186529  5.398288e+06\n",
       "2013-03-01  57.979776  58.643128  57.477498  58.362241  5.240415e+06\n",
       "2013-03-04  58.222026  58.900375  57.835719  58.684245  4.678854e+06\n",
       "2013-03-05  58.950564  59.639694  58.680491  59.283359  5.070163e+06\n",
       "2013-03-06  59.450800  59.831749  58.936313  59.296120  4.737881e+06\n",
       "2013-03-07  59.369911  59.779297  58.918157  59.337500  4.781455e+06\n",
       "2013-03-08  59.590637  59.968871  59.060459  59.646093  5.015645e+06"
      ],
      "text/html": "<div>\n<style scoped>\n    .dataframe tbody tr th:only-of-type {\n        vertical-align: middle;\n    }\n\n    .dataframe tbody tr th {\n        vertical-align: top;\n    }\n\n    .dataframe thead th {\n        text-align: right;\n    }\n</style>\n<table border=\"1\" class=\"dataframe\">\n  <thead>\n    <tr style=\"text-align: right;\">\n      <th></th>\n      <th>open</th>\n      <th>high</th>\n      <th>low</th>\n      <th>close</th>\n      <th>volume</th>\n    </tr>\n    <tr>\n      <th>date</th>\n      <th></th>\n      <th></th>\n      <th></th>\n      <th></th>\n      <th></th>\n    </tr>\n  </thead>\n  <tbody>\n    <tr>\n      <th>2013-02-08</th>\n      <td>58.068730</td>\n      <td>58.659286</td>\n      <td>57.802352</td>\n      <td>58.368654</td>\n      <td>4.643484e+06</td>\n    </tr>\n    <tr>\n      <th>2013-02-11</th>\n      <td>58.355556</td>\n      <td>58.686073</td>\n      <td>57.890072</td>\n      <td>58.272196</td>\n      <td>4.092442e+06</td>\n    </tr>\n    <tr>\n      <th>2013-02-12</th>\n      <td>58.321741</td>\n      <td>58.771200</td>\n      <td>57.954938</td>\n      <td>58.404071</td>\n      <td>5.122822e+06</td>\n    </tr>\n    <tr>\n      <th>2013-02-13</th>\n      <td>58.478904</td>\n      <td>58.899515</td>\n      <td>58.040928</td>\n      <td>58.485503</td>\n      <td>5.132086e+06</td>\n    </tr>\n    <tr>\n      <th>2013-02-14</th>\n      <td>58.289216</td>\n      <td>58.878329</td>\n      <td>57.871977</td>\n      <td>58.473144</td>\n      <td>5.482383e+06</td>\n    </tr>\n    <tr>\n      <th>2013-02-15</th>\n      <td>58.485982</td>\n      <td>58.932768</td>\n      <td>57.970143</td>\n      <td>58.437170</td>\n      <td>5.734999e+06</td>\n    </tr>\n    <tr>\n      <th>2013-02-19</th>\n      <td>58.475575</td>\n      <td>59.076565</td>\n      <td>58.088696</td>\n      <td>58.762733</td>\n      <td>5.274365e+06</td>\n    </tr>\n    <tr>\n      <th>2013-02-20</th>\n      <td>58.702446</td>\n      <td>59.020518</td>\n      <td>57.765783</td>\n      <td>57.915434</td>\n      <td>5.667893e+06</td>\n    </tr>\n    <tr>\n      <th>2013-02-21</th>\n      <td>57.765623</td>\n      <td>58.128038</td>\n      <td>57.007764</td>\n      <td>57.505777</td>\n      <td>6.042141e+06</td>\n    </tr>\n    <tr>\n      <th>2013-02-22</th>\n      <td>57.765128</td>\n      <td>58.342281</td>\n      <td>57.408570</td>\n      <td>58.088968</td>\n      <td>4.651068e+06</td>\n    </tr>\n    <tr>\n      <th>2013-02-25</th>\n      <td>58.332967</td>\n      <td>58.682924</td>\n      <td>56.980270</td>\n      <td>57.020570</td>\n      <td>5.768132e+06</td>\n    </tr>\n    <tr>\n      <th>2013-02-26</th>\n      <td>57.239422</td>\n      <td>57.785060</td>\n      <td>56.657046</td>\n      <td>57.367940</td>\n      <td>5.708278e+06</td>\n    </tr>\n    <tr>\n      <th>2013-02-27</th>\n      <td>57.423533</td>\n      <td>58.529759</td>\n      <td>57.175580</td>\n      <td>58.202076</td>\n      <td>4.946661e+06</td>\n    </tr>\n    <tr>\n      <th>2013-02-28</th>\n      <td>58.186321</td>\n      <td>58.792582</td>\n      <td>57.787218</td>\n      <td>58.186529</td>\n      <td>5.398288e+06</td>\n    </tr>\n    <tr>\n      <th>2013-03-01</th>\n      <td>57.979776</td>\n      <td>58.643128</td>\n      <td>57.477498</td>\n      <td>58.362241</td>\n      <td>5.240415e+06</td>\n    </tr>\n    <tr>\n      <th>2013-03-04</th>\n      <td>58.222026</td>\n      <td>58.900375</td>\n      <td>57.835719</td>\n      <td>58.684245</td>\n      <td>4.678854e+06</td>\n    </tr>\n    <tr>\n      <th>2013-03-05</th>\n      <td>58.950564</td>\n      <td>59.639694</td>\n      <td>58.680491</td>\n      <td>59.283359</td>\n      <td>5.070163e+06</td>\n    </tr>\n    <tr>\n      <th>2013-03-06</th>\n      <td>59.450800</td>\n      <td>59.831749</td>\n      <td>58.936313</td>\n      <td>59.296120</td>\n      <td>4.737881e+06</td>\n    </tr>\n    <tr>\n      <th>2013-03-07</th>\n      <td>59.369911</td>\n      <td>59.779297</td>\n      <td>58.918157</td>\n      <td>59.337500</td>\n      <td>4.781455e+06</td>\n    </tr>\n    <tr>\n      <th>2013-03-08</th>\n      <td>59.590637</td>\n      <td>59.968871</td>\n      <td>59.060459</td>\n      <td>59.646093</td>\n      <td>5.015645e+06</td>\n    </tr>\n  </tbody>\n</table>\n</div>"
     },
     "metadata": {},
     "execution_count": 4
    }
   ],
   "source": [
    "grouped = stocks.groupby(by=['date']).mean()\n",
    "\n",
    "grouped.head(20)"
   ]
  },
  {
   "cell_type": "code",
   "execution_count": 9,
   "metadata": {},
   "outputs": [
    {
     "output_type": "execute_result",
     "data": {
      "text/plain": [
       "                close        volume\n",
       "date                               \n",
       "2013-02-08  58.368654  4.643484e+06\n",
       "2013-02-11  58.272196  4.092442e+06\n",
       "2013-02-12  58.404071  5.122822e+06\n",
       "2013-02-13  58.485503  5.132086e+06\n",
       "2013-02-14  58.473144  5.482383e+06\n",
       "2013-02-15  58.437170  5.734999e+06\n",
       "2013-02-19  58.762733  5.274365e+06\n",
       "2013-02-20  57.915434  5.667893e+06\n",
       "2013-02-21  57.505777  6.042141e+06\n",
       "2013-02-22  58.088968  4.651068e+06\n",
       "2013-02-25  57.020570  5.768132e+06\n",
       "2013-02-26  57.367940  5.708278e+06\n",
       "2013-02-27  58.202076  4.946661e+06\n",
       "2013-02-28  58.186529  5.398288e+06\n",
       "2013-03-01  58.362241  5.240415e+06\n",
       "2013-03-04  58.684245  4.678854e+06\n",
       "2013-03-05  59.283359  5.070163e+06\n",
       "2013-03-06  59.296120  4.737881e+06\n",
       "2013-03-07  59.337500  4.781455e+06\n",
       "2013-03-08  59.646093  5.015645e+06"
      ],
      "text/html": "<div>\n<style scoped>\n    .dataframe tbody tr th:only-of-type {\n        vertical-align: middle;\n    }\n\n    .dataframe tbody tr th {\n        vertical-align: top;\n    }\n\n    .dataframe thead th {\n        text-align: right;\n    }\n</style>\n<table border=\"1\" class=\"dataframe\">\n  <thead>\n    <tr style=\"text-align: right;\">\n      <th></th>\n      <th>close</th>\n      <th>volume</th>\n    </tr>\n    <tr>\n      <th>date</th>\n      <th></th>\n      <th></th>\n    </tr>\n  </thead>\n  <tbody>\n    <tr>\n      <th>2013-02-08</th>\n      <td>58.368654</td>\n      <td>4.643484e+06</td>\n    </tr>\n    <tr>\n      <th>2013-02-11</th>\n      <td>58.272196</td>\n      <td>4.092442e+06</td>\n    </tr>\n    <tr>\n      <th>2013-02-12</th>\n      <td>58.404071</td>\n      <td>5.122822e+06</td>\n    </tr>\n    <tr>\n      <th>2013-02-13</th>\n      <td>58.485503</td>\n      <td>5.132086e+06</td>\n    </tr>\n    <tr>\n      <th>2013-02-14</th>\n      <td>58.473144</td>\n      <td>5.482383e+06</td>\n    </tr>\n    <tr>\n      <th>2013-02-15</th>\n      <td>58.437170</td>\n      <td>5.734999e+06</td>\n    </tr>\n    <tr>\n      <th>2013-02-19</th>\n      <td>58.762733</td>\n      <td>5.274365e+06</td>\n    </tr>\n    <tr>\n      <th>2013-02-20</th>\n      <td>57.915434</td>\n      <td>5.667893e+06</td>\n    </tr>\n    <tr>\n      <th>2013-02-21</th>\n      <td>57.505777</td>\n      <td>6.042141e+06</td>\n    </tr>\n    <tr>\n      <th>2013-02-22</th>\n      <td>58.088968</td>\n      <td>4.651068e+06</td>\n    </tr>\n    <tr>\n      <th>2013-02-25</th>\n      <td>57.020570</td>\n      <td>5.768132e+06</td>\n    </tr>\n    <tr>\n      <th>2013-02-26</th>\n      <td>57.367940</td>\n      <td>5.708278e+06</td>\n    </tr>\n    <tr>\n      <th>2013-02-27</th>\n      <td>58.202076</td>\n      <td>4.946661e+06</td>\n    </tr>\n    <tr>\n      <th>2013-02-28</th>\n      <td>58.186529</td>\n      <td>5.398288e+06</td>\n    </tr>\n    <tr>\n      <th>2013-03-01</th>\n      <td>58.362241</td>\n      <td>5.240415e+06</td>\n    </tr>\n    <tr>\n      <th>2013-03-04</th>\n      <td>58.684245</td>\n      <td>4.678854e+06</td>\n    </tr>\n    <tr>\n      <th>2013-03-05</th>\n      <td>59.283359</td>\n      <td>5.070163e+06</td>\n    </tr>\n    <tr>\n      <th>2013-03-06</th>\n      <td>59.296120</td>\n      <td>4.737881e+06</td>\n    </tr>\n    <tr>\n      <th>2013-03-07</th>\n      <td>59.337500</td>\n      <td>4.781455e+06</td>\n    </tr>\n    <tr>\n      <th>2013-03-08</th>\n      <td>59.646093</td>\n      <td>5.015645e+06</td>\n    </tr>\n  </tbody>\n</table>\n</div>"
     },
     "metadata": {},
     "execution_count": 9
    }
   ],
   "source": [
    "close = grouped[['close', 'volume']]\n",
    "\n",
    "close.head(20)\n"
   ]
  },
  {
   "cell_type": "code",
   "execution_count": 10,
   "metadata": {},
   "outputs": [],
   "source": [
    "close.to_csv('data/cleaned_stocks.csv')"
   ]
  },
  {
   "cell_type": "code",
   "execution_count": null,
   "metadata": {},
   "outputs": [],
   "source": []
  }
 ]
}